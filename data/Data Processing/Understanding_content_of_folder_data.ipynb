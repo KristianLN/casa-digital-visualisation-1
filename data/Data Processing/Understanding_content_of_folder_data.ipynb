{
 "cells": [
  {
   "cell_type": "code",
   "execution_count": 2,
   "metadata": {},
   "outputs": [],
   "source": [
    "import os\n",
    "import numpy as np\n",
    "import pandas as pd\n",
    "import matplotlib.pyplot as plt\n",
    "import ezodf\n",
    "import re\n",
    "from functions import extractDescription"
   ]
  },
  {
   "cell_type": "code",
   "execution_count": 4,
   "metadata": {},
   "outputs": [],
   "source": [
    "firstLevelPath = '../Potential_Data'\n",
    "folders = os.listdir(firstLevelPath)\n",
    "folders = [folder for folder in folders if '.txt' not in folder]\n",
    "\n",
    "# URL of source\n",
    "source = ['https://www.gov.uk/government/statistics/port-freight-statistics-2017-final-figures',\n",
    "         'https://www.gov.uk/government/collections/road-freight-domestic-and-international-statistics',\n",
    "         'https://www.gov.uk/government/statistics/transport-statistics-great-britain-2018']"
   ]
  },
  {
   "cell_type": "code",
   "execution_count": 5,
   "metadata": {},
   "outputs": [
    {
     "data": {
      "text/plain": [
       "['countries',\n",
       " 'Not Interesting',\n",
       " 'port-freight-statistics-2017',\n",
       " 'road-freight-statistics-2017',\n",
       " 'tsgb-2018',\n",
       " 'UK Airport Data (2) 2019',\n",
       " 'wits_en_trade_summary_allcountries_allyears',\n",
       " 'wits_en_trade_summary_allcountries_allyears.zip',\n",
       " 'wld_trs_airports_wfp']"
      ]
     },
     "execution_count": 5,
     "metadata": {},
     "output_type": "execute_result"
    }
   ],
   "source": [
    "folders"
   ]
  },
  {
   "cell_type": "code",
   "execution_count": 6,
   "metadata": {},
   "outputs": [],
   "source": [
    "folders = ['port-freight-statistics-2017','road-freight-statistics-2017','tsgb-2018']"
   ]
  },
  {
   "cell_type": "code",
   "execution_count": 7,
   "metadata": {},
   "outputs": [
    {
     "name": "stdout",
     "output_type": "stream",
     "text": [
      "Processing of the folders has begun....\n",
      "\n",
      "*** port-freight-statistics-2017 being processed ***\n",
      "None\n",
      "\n",
      "Extraction Done.. Saving extracted information..\n",
      "\n",
      "** port-freight-statistics-2017 has been processed **\n",
      "\n",
      "Next!\n",
      "\n",
      "*** road-freight-statistics-2017 being processed ***\n",
      "\n",
      "The subfolders:\n",
      "\n",
      "Domestic road freight tables\n",
      "International road freight tables\n",
      "\n",
      "Extraction Done.. Saving extracted information..\n",
      "\n",
      "** road-freight-statistics-2017 has been processed **\n",
      "\n",
      "Next!\n",
      "\n",
      "*** tsgb-2018 being processed ***\n",
      "\n",
      "The subfolders:\n",
      "\n",
      "Aviation\n",
      "Energy and environment\n",
      "Freight\n",
      "Maritime\n",
      "Modal\n",
      "Public transport\n",
      "Roads and traffic\n",
      "Transport accidents\n",
      "None\n",
      "Transport and disability\n",
      "None\n",
      "Transport expenditure\n",
      "Vehicles\n",
      "Walking and cycling\n",
      "\n",
      "Extraction Done.. Saving extracted information..\n",
      "\n",
      "** tsgb-2018 has been processed **\n",
      "\n",
      "********** El finito! **********\n"
     ]
    }
   ],
   "source": [
    "print('Processing of the folders has begun....\\n')\n",
    "\n",
    "for j,folder in enumerate(folders):\n",
    "    print('*** ' + folder + ' being processed ***')\n",
    "    secondLevelPath = firstLevelPath + '/' + folder\n",
    "    content = os.listdir(secondLevelPath)\n",
    "    \n",
    "    if os.path.isfile(secondLevelPath+'/'+content[0]):\n",
    "        None\n",
    "        # Extract and save\n",
    "        descriptions = extractDescription(content,secondLevelPath)\n",
    "        print('\\nExtraction Done.. Saving extracted information..')\n",
    "        with open(firstLevelPath+'/'+folder+'Content.txt','w') as file:\n",
    "            file.write('############################################### Main folder: ' + folders[j] + ' ###############################################\\n')\n",
    "            file.write('Source: ' + source[j]+'\\n\\n')\n",
    "            file.write('The folder \"'+folder+'\" contains the following data:\\n\\n')\n",
    "            for describtion in descriptions:\n",
    "                file.write(str(describtion)+'\\n')\n",
    "        \n",
    "    else:\n",
    "        \n",
    "        descriptionHolder = [[] for i in np.arange(len(content))]\n",
    "        print('\\nThe subfolders:\\n')\n",
    "        \n",
    "        for i,subcontent in enumerate(content):\n",
    "            \n",
    "            print(subcontent)\n",
    "            \n",
    "            thirdLevelPath = secondLevelPath+'/'+subcontent\n",
    "            whatDoWeHaveHere = os.listdir(thirdLevelPath)\n",
    "\n",
    "            # Extract and save\n",
    "            descriptions = extractDescription(whatDoWeHaveHere,thirdLevelPath)\n",
    "            descriptionHolder[i].append(descriptions)\n",
    "            \n",
    "        print('\\nExtraction Done.. Saving extracted information..')\n",
    "    \n",
    "        with open(firstLevelPath+'/'+folder+'Content.txt','w') as file:\n",
    "            file.write('############################################### Main folder: ' + folders[j] + ' ###############################################\\n')\n",
    "            file.write('Source: ' + source[j]+'\\n\\n')\n",
    "            for i,subcontent in enumerate(content):\n",
    "                file.write('The folder \"'+subcontent+'\" contains the following data:\\n\\n')\n",
    "                for describtion in descriptionHolder[i][0]:\n",
    "                    file.write(str(describtion)+'\\n')\n",
    "                file.write('\\n')\n",
    "                \n",
    "    print('\\n** '+folder+' has been processed **\\n')\n",
    "    \n",
    "    if j < (len(folders)-1):\n",
    "        print('Next!\\n')\n",
    "        \n",
    "    else:\n",
    "        print('********** El finito! **********')"
   ]
  },
  {
   "cell_type": "code",
   "execution_count": null,
   "metadata": {},
   "outputs": [],
   "source": []
  }
 ],
 "metadata": {
  "kernelspec": {
   "display_name": "Python 3",
   "language": "python",
   "name": "python3"
  },
  "language_info": {
   "codemirror_mode": {
    "name": "ipython",
    "version": 3
   },
   "file_extension": ".py",
   "mimetype": "text/x-python",
   "name": "python",
   "nbconvert_exporter": "python",
   "pygments_lexer": "ipython3",
   "version": "3.6.6"
  }
 },
 "nbformat": 4,
 "nbformat_minor": 2
}
